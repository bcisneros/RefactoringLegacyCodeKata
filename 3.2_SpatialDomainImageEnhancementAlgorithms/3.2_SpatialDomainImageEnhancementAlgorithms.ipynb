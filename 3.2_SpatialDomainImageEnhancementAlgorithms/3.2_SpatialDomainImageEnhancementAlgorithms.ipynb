{
  "cells": [
    {
      "cell_type": "markdown",
      "metadata": {
        "id": "view-in-github",
        "colab_type": "text"
      },
      "source": [
        "<a href=\"https://colab.research.google.com/github/bcisneros/RefactoringLegacyCodeKata/blob/master/3.2_SpatialDomainImageEnhancementAlgorithms/3.2_SpatialDomainImageEnhancementAlgorithms.ipynb\" target=\"_parent\"><img src=\"https://colab.research.google.com/assets/colab-badge.svg\" alt=\"Open In Colab\"/></a>"
      ]
    },
    {
      "cell_type": "markdown",
      "id": "6b09ddb1",
      "metadata": {
        "id": "6b09ddb1"
      },
      "source": [
        "# 3.2 Google Colab – Spatial Domain Image Enhancement Algorithms\n",
        "## Computer Vision for Images and Video (TC4033 - Group 10)\n",
        "\n",
        "- **School**: School of Engineering and Sciences, Tecnológico de Monterrey\n",
        "- **Lead Professor**: Dr. Gilberto Ochoa Ruiz\n",
        "- **Assistant Professor**: MIP Ma. del Refugio Melendez Alfaro\n",
        "- **Tutor Professor**: Iván Reyes Amezcua\n",
        "- **Team 5**:\n",
        "  - Benjamin Cisneros Barraza - A01796323\n",
        "  - Jonatan Israel Meza Mendoza - A01275322\n",
        "  - Carlos Pano Hernández - A01066264\n",
        "  - Edgar Omar Cruz Mendoza - A01795590\n",
        "- **Date**: Sunday, September 28th, 2025\n"
      ]
    },
    {
      "cell_type": "markdown",
      "id": "e7f5927d",
      "metadata": {
        "id": "e7f5927d"
      },
      "source": [
        "## 🎯 Objective\n",
        "\n",
        "In this session, we explore image enhancement techniques using convolution-based methods in the spatial domain. We begin by implementing basic filters to reinforce theoretical concepts, followed by enhancement techniques discussed in class.\n",
        "\n",
        "---"
      ]
    },
    {
      "cell_type": "markdown",
      "id": "95fb6cb6",
      "metadata": {
        "id": "95fb6cb6"
      },
      "source": [
        "## 📚 Theoretical Background\n",
        "\n",
        "- Brief explanation of spatial domain filtering.\n",
        "- Overview of convolution and kernel operations.\n",
        "- Reference: Chapter 3 of *Digital Image Processing* by Gonzalez & Woods.\n",
        "\n",
        "---"
      ]
    },
    {
      "cell_type": "markdown",
      "id": "ff8ed67f",
      "metadata": {
        "id": "ff8ed67f"
      },
      "source": [
        "## 🧪 Section 1: Basic Line Detectors (Without OpenCV)"
      ]
    },
    {
      "cell_type": "markdown",
      "id": "cb77d12b",
      "metadata": {
        "id": "cb77d12b"
      },
      "source": [
        "\n",
        "### 1.1 Prewitt Operator\n",
        "- **Kernel definition**\n",
        "- **Python implementation**\n",
        "- **Example image and result**\n",
        "- **Complexity analysis**"
      ]
    },
    {
      "cell_type": "markdown",
      "id": "4ca72909",
      "metadata": {
        "id": "4ca72909"
      },
      "source": [
        "### 1.2 Sobel Operator\n",
        "- **Kernel definition**\n",
        "- **Python implementation**\n",
        "- **Example image and result**\n",
        "- **Complexity analysis**"
      ]
    },
    {
      "cell_type": "markdown",
      "id": "556918f0",
      "metadata": {
        "id": "556918f0"
      },
      "source": [
        "### 1.3 Laplacian Operator\n",
        "- **Kernel definition**\n",
        "- **Python implementation**\n",
        "- **Example image and result**\n",
        "- **Complexity analysis**"
      ]
    },
    {
      "cell_type": "code",
      "source": [
        "from datetime import datetime\n",
        "\n",
        "# Get the current date and time\n",
        "current_datetime = datetime.now()\n",
        "\n",
        "# Print the full datetime object\n",
        "print(current_datetime)\n",
        "\n",
        "# You can also print specific components\n",
        "print(\"Current Date:\", current_datetime.date())\n",
        "print(\"Current Time:\", current_datetime.time())"
      ],
      "metadata": {
        "colab": {
          "base_uri": "https://localhost:8080/"
        },
        "id": "AqlVUBURX_sx",
        "outputId": "9d0b3107-f3b8-4347-d739-1587ba78ecd4"
      },
      "id": "AqlVUBURX_sx",
      "execution_count": 2,
      "outputs": [
        {
          "output_type": "stream",
          "name": "stdout",
          "text": [
            "2025-09-22 21:45:53.740146\n",
            "Current Date: 2025-09-22\n",
            "Current Time: 21:45:53.740146\n"
          ]
        }
      ]
    },
    {
      "cell_type": "markdown",
      "id": "6ff69266",
      "metadata": {
        "id": "6ff69266"
      },
      "source": [
        "### 🧠 Comparative Analysis\n",
        "- Which operator is more efficient?\n",
        "- Visual and computational comparison.\n",
        "- Argumentative response with references.\n",
        "---"
      ]
    },
    {
      "cell_type": "markdown",
      "id": "6a48201d",
      "metadata": {
        "id": "6a48201d"
      },
      "source": [
        "## 🧪 Section 2: Image Enhancement via Line Extraction"
      ]
    },
    {
      "cell_type": "markdown",
      "id": "f81d9361",
      "metadata": {
        "id": "f81d9361"
      },
      "source": [
        "### 2.1 Method Description\n",
        "- Extract lines using one of the above operators.\n",
        "- Subtract line mask from original image.\n",
        "- Multiply line mask by alpha > 1 and add to original image."
      ]
    },
    {
      "cell_type": "markdown",
      "id": "5af812a1",
      "metadata": {
        "id": "5af812a1"
      },
      "source": [
        "### 2.2 Python Implementation\n",
        "- Step-by-step code.\n",
        "- Parameter tuning (e.g., alpha values).\n",
        "- Visual results."
      ]
    },
    {
      "cell_type": "markdown",
      "id": "27fa9057",
      "metadata": {
        "id": "27fa9057"
      },
      "source": [
        "### 2.3 Discussion\n",
        "- How does this method enhance image features?\n",
        "- Limitations and possible improvements.\n",
        "---"
      ]
    },
    {
      "cell_type": "markdown",
      "id": "49b957ac",
      "metadata": {
        "id": "49b957ac"
      },
      "source": [
        "## 🧪 Section 3: Medical Image Enhancement (Figure 3.43 Inspired)"
      ]
    },
    {
      "cell_type": "markdown",
      "id": "63198faa",
      "metadata": {
        "id": "63198faa"
      },
      "source": [
        "### 3.1 Source Image\n",
        "- Load a medical image (e.g., PET scan).\n",
        "- Reference to textbook example."
      ]
    },
    {
      "cell_type": "markdown",
      "id": "7232d1e3",
      "metadata": {
        "id": "7232d1e3"
      },
      "source": [
        "### 3.2 Multi-stage Processing\n",
        "- Apply a sequence of filters (e.g., smoothing, edge detection, enhancement).\n",
        "- Combine results as shown in Figure 3.43."
      ]
    },
    {
      "cell_type": "markdown",
      "id": "eb2e99a5",
      "metadata": {
        "id": "eb2e99a5"
      },
      "source": [
        "### 3.3 Python Implementation\n",
        "- Modular code for each stage.\n",
        "- Final composite result."
      ]
    },
    {
      "cell_type": "markdown",
      "id": "ad873023",
      "metadata": {
        "id": "ad873023"
      },
      "source": [
        "\n",
        "### 3.4 Discussion\n",
        "- How does this technique improve diagnostic visibility?\n",
        "- Comparison with single-stage methods.\n",
        "\n",
        "---"
      ]
    },
    {
      "cell_type": "markdown",
      "id": "5209287e",
      "metadata": {
        "id": "5209287e"
      },
      "source": [
        "## 📸 Results Summary\n",
        "\n",
        "- Side-by-side comparisons of original and processed images.\n",
        "- Screenshots for PDF export.\n",
        "- Optional metrics (e.g., contrast, sharpness).\n",
        "---"
      ]
    },
    {
      "cell_type": "markdown",
      "id": "790e240a",
      "metadata": {
        "id": "790e240a"
      },
      "source": [
        "## 📝 Argumentative Responses\n",
        "\n",
        "- Complexity analysis of filters.\n",
        "- Justification of enhancement method.\n",
        "- Application relevance in medical imaging.\n",
        "- Academic writing style with references.\n",
        "\n",
        "---"
      ]
    },
    {
      "cell_type": "markdown",
      "id": "686e6531",
      "metadata": {
        "id": "686e6531"
      },
      "source": [
        "## 🔗 Resources\n",
        "\n",
        "- [LearnOpenCV – Image Filtering](https://learnopencv.com/image-filtering-using-convolution-in//pyimagesearch.com/2016/07/25/convolutionsksforgeeks.org/spatial-filters-averaging Ed.). *Digital Image Processing*. Pearson.\n"
      ]
    }
  ],
  "metadata": {
    "language_info": {
      "name": "python"
    },
    "colab": {
      "provenance": [],
      "include_colab_link": true
    },
    "kernelspec": {
      "name": "python3",
      "display_name": "Python 3"
    }
  },
  "nbformat": 4,
  "nbformat_minor": 5
}